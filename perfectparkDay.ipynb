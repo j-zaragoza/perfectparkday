{
 "cells": [
  {
   "cell_type": "code",
   "execution_count": 1,
   "metadata": {},
   "outputs": [],
   "source": [
    "import pandas as pd\n",
    "import numpy as np\n",
    "import collections as co\n",
    "from datetime import date as dt\n",
    "import matplotlib.pyplot as plt"
   ]
  },
  {
   "cell_type": "markdown",
   "metadata": {},
   "source": [
    "### The file containing all data is 2.9 gb. I will create a list then dataframe subsets for the park in question. The visitation files are much smaller. Those will be easier to work with. I still need to download visitation data for all parks. Site names and all site info is also loaded."
   ]
  },
  {
   "cell_type": "code",
   "execution_count": 2,
   "metadata": {},
   "outputs": [],
   "source": [
    "with open(r\"C:\\Users\\ZaragozaJake\\Documents\\Jobs\\TDI\\AqmetParkdata\\All Parks ValidatedData.csv\",'r') as file:\n",
    "    alldata=file.readlines()"
   ]
  },
  {
   "cell_type": "code",
   "execution_count": 3,
   "metadata": {},
   "outputs": [],
   "source": [
    "visits = pd.read_csv(r\"C:\\Users\\ZaragozaJake\\Documents\\Jobs\\TDI\\Denalivisitors.csv\",skiprows=3)"
   ]
  },
  {
   "cell_type": "code",
   "execution_count": 3,
   "metadata": {},
   "outputs": [],
   "source": [
    "sites = pd.read_csv(r\"C:\\Users\\ZaragozaJake\\Documents\\Jobs\\TDI\\AqmetParkdata\\All Parks SiteDetails.csv\")"
   ]
  },
  {
   "cell_type": "markdown",
   "metadata": {},
   "source": [
    "### Input parameters will be based on user inputs and the original file header."
   ]
  },
  {
   "cell_type": "code",
   "execution_count": 5,
   "metadata": {},
   "outputs": [
    {
     "name": "stdout",
     "output_type": "stream",
     "text": [
      "Header Information: ['AQMET_ABBR', 'RECORD_DATE', 'O3', 'O3_UNITS', 'RH', 'RH_UNITS', 'RNF', 'RNF_UNITS', 'SDWD', 'SDWD_UNITS', 'SOL', 'SOL_UNITS', 'SWS', 'SWS_UNITS', 'TMP', 'TMP_UNITS', 'VWD', 'VWD_UNITS', 'VWS', 'VWS_UNITS']\n",
      "Example of data: \"ABLI-KC\",07/01/2005 12:00:00 AM,-999,\"ppb\",-999,\"percent\",,\"\",,\"\",,\"\",,\"\",-999,\"degC\",,\"\",,\"\"\n",
      "\n"
     ]
    }
   ],
   "source": [
    "#User inputs\n",
    "parkname = '\"ZION-DW\"'\n",
    "o3high = 45\n",
    "o3low = 0\n",
    "tmphigh = 20\n",
    "tmplow = 12\n",
    "solhigh = 700\n",
    "sollow = 400 \n",
    "rnfhigh = 0.1\n",
    "rnflow = 0\n",
    "rhhigh = 50\n",
    "rhlow = 0\n",
    "wshigh = 2\n",
    "wslow = 0\n",
    "#file inputs\n",
    "labels = alldata[0]\n",
    "labels = labels.replace('\"','')\n",
    "labels = labels.replace(\"'\",\"\")\n",
    "labels = labels.replace(\"\\n\",\"\")\n",
    "labels = labels.split(',')\n",
    "print('Header Information:',labels)\n",
    "print('Example of data:',alldata[1])"
   ]
  },
  {
   "cell_type": "markdown",
   "metadata": {},
   "source": [
    "### Lets run some tests...I need to come back to this. It takes too long to run this."
   ]
  },
  {
   "cell_type": "code",
   "execution_count": null,
   "metadata": {},
   "outputs": [],
   "source": [
    "#datacheck = [alldata[i].split(',') for i in range(len(alldata))]"
   ]
  },
  {
   "cell_type": "code",
   "execution_count": null,
   "metadata": {},
   "outputs": [],
   "source": [
    "### Create an input series. Not sure if this is correct either. It is too computationally intensive for my machine."
   ]
  },
  {
   "cell_type": "code",
   "execution_count": 18,
   "metadata": {},
   "outputs": [],
   "source": [
    "sitenames = sites['ABBR']\n",
    "filesplit = [z for z in alldata if sitenames[0] in z]"
   ]
  },
  {
   "cell_type": "code",
   "execution_count": 1,
   "metadata": {},
   "outputs": [
    {
     "ename": "NameError",
     "evalue": "name 'filesplit' is not defined",
     "output_type": "error",
     "traceback": [
      "\u001b[1;31m---------------------------------------------------------------------------\u001b[0m",
      "\u001b[1;31mNameError\u001b[0m                                 Traceback (most recent call last)",
      "\u001b[1;32m<ipython-input-1-f566c5bbf75c>\u001b[0m in \u001b[0;36m<module>\u001b[1;34m\u001b[0m\n\u001b[1;32m----> 1\u001b[1;33m \u001b[0mprint\u001b[0m\u001b[1;33m(\u001b[0m\u001b[0mlen\u001b[0m\u001b[1;33m(\u001b[0m\u001b[0mfilesplit\u001b[0m\u001b[1;33m)\u001b[0m\u001b[1;33m)\u001b[0m\u001b[1;33m\u001b[0m\u001b[1;33m\u001b[0m\u001b[0m\n\u001b[0m\u001b[0;32m      2\u001b[0m \u001b[0mfilesplit\u001b[0m\u001b[1;33m[\u001b[0m\u001b[1;36m1487\u001b[0m\u001b[1;33m]\u001b[0m\u001b[1;33m\u001b[0m\u001b[1;33m\u001b[0m\u001b[0m\n",
      "\u001b[1;31mNameError\u001b[0m: name 'filesplit' is not defined"
     ]
    }
   ],
   "source": [
    "print(len(filesplit))\n",
    "filesplit[1487]"
   ]
  },
  {
   "cell_type": "markdown",
   "metadata": {},
   "source": [
    "### All sites (some parks have (had) more than one site) have a unique identifier code, the 'AQMET_ABBR.' is that code. Use list comprehension to filter based on park. "
   ]
  },
  {
   "cell_type": "code",
   "execution_count": 6,
   "metadata": {},
   "outputs": [],
   "source": [
    "parkaqmet = [x for x in alldata if parkname in x]"
   ]
  },
  {
   "cell_type": "markdown",
   "metadata": {},
   "source": [
    "### Create data frame of park aqmet subset. First change every string in the list into a list itself."
   ]
  },
  {
   "cell_type": "code",
   "execution_count": 7,
   "metadata": {},
   "outputs": [],
   "source": [
    "parkaqmetprep = [parkaqmet[i].split(',') for i in range(len(parkaqmet))]"
   ]
  },
  {
   "cell_type": "code",
   "execution_count": 8,
   "metadata": {},
   "outputs": [],
   "source": [
    "parkaqmetdf = pd.DataFrame(parkaqmetprep,columns=labels)"
   ]
  },
  {
   "cell_type": "markdown",
   "metadata": {},
   "source": [
    "### Clean up data: change to numeric, change -999 and blank cells to NaN, add datetime object"
   ]
  },
  {
   "cell_type": "code",
   "execution_count": 9,
   "metadata": {},
   "outputs": [],
   "source": [
    "parkaqmetdf['RECORD_DATE'] = pd.to_datetime(parkaqmetdf['RECORD_DATE'])\n",
    "parkaqmetdf = parkaqmetdf.replace('',np.NaN)\n",
    "col = parkaqmetdf.columns[2:19]\n",
    "parkaqmetdf[col] = parkaqmetdf[col].apply(pd.to_numeric, errors='ignore')\n",
    "#parkaqmetdf = parkaqmetdf.apply(pd.to_numeric, errors='ignore')\n",
    "parkaqmetdf = parkaqmetdf.replace(-999.00,np.NaN)"
   ]
  },
  {
   "cell_type": "markdown",
   "metadata": {},
   "source": [
    "### Check for unit changes and make universal. PPB for ozone, % for RH, mm/Hr for precip, W/m^2 for solar rad, m/s for WS, Deg Celsius for temp. First count all different types of units/column. This is HARDCODED for DENALI-HQ! "
   ]
  },
  {
   "cell_type": "code",
   "execution_count": 10,
   "metadata": {},
   "outputs": [],
   "source": [
    "o3units = co.Counter(parkaqmetdf['O3_UNITS'])# ppm and ppb\n",
    "rhunits = co.Counter(parkaqmetdf['RH_UNITS'])# % and empty. Hopefully it is NaN.\n",
    "rnfunits = co.Counter(parkaqmetdf['RNF_UNITS'])# in/hr and mm/hr\n",
    "solunits = co.Counter(parkaqmetdf['SOL_UNITS'])#ly/min and w/m2 also empty\n",
    "swsunits = co.Counter(parkaqmetdf['SWS_UNITS'])#m/s and mph\n",
    "tmpunits = co.Counter(parkaqmetdf['TMP_UNITS'])#DGC\n",
    "\n",
    "parkaqmetdf.loc[parkaqmetdf['O3_UNITS'] == '\"ppm\"', 'O3'] = parkaqmetdf['O3']*1000\n",
    "parkaqmetdf.loc[parkaqmetdf['O3_UNITS'] == '\"ppm\"', 'O3_UNITS'] = '\"ppb\"'\n",
    "\n",
    "parkaqmetdf.loc[parkaqmetdf['RNF_UNITS'] == '\"in/hr\"', 'RNF'] = parkaqmetdf['RNF']*25.4\n",
    "parkaqmetdf.loc[parkaqmetdf['RNF_UNITS'] == '\"in/hr\"', 'RNF_UNITS'] = '\"mm/hr\"'\n",
    "\n",
    "parkaqmetdf.loc[parkaqmetdf['SOL_UNITS'] == '\"ly/min\"', 'SOL'] = parkaqmetdf['SOL']*697.3\n",
    "parkaqmetdf.loc[parkaqmetdf['SOL_UNITS'] == '\"ly/min\"', 'SOL_UNITS'] = '\"w/m2\"'\n",
    "\n",
    "parkaqmetdf.loc[parkaqmetdf['SWS_UNITS'] == '\"mph\"', 'SWS'] = parkaqmetdf['SWS']*0.44704\n",
    "parkaqmetdf.loc[parkaqmetdf['SWS_UNITS'] == '\"mph\"', 'SWS_UNITS'] = '\"m/s\"'\n",
    "\n",
    "\n",
    "\n",
    "#asdf = list(map(int,o3units))\n",
    "#subset=parkaqmetdf.head(10)\n",
    "\n",
    "#subset"
   ]
  },
  {
   "cell_type": "markdown",
   "metadata": {},
   "source": [
    "### Tests for unit changes. Print out all output for obvious unit changes."
   ]
  },
  {
   "cell_type": "code",
   "execution_count": 11,
   "metadata": {},
   "outputs": [
    {
     "name": "stdout",
     "output_type": "stream",
     "text": [
      "Counter({'\"ppb\"': 138048})\n",
      "Counter({'\"percent\"': 84000, '\"\"': 54048})\n",
      "Counter({'\"mm/hr\"': 138043, '\"\"': 5})\n",
      "Counter({'\"w/m2\"': 138048})\n",
      "Counter({'\"m/s\"': 138048})\n",
      "Counter({'\"degC\"': 138048})\n"
     ]
    }
   ],
   "source": [
    "print(o3units)\n",
    "print(rhunits)\n",
    "print(rnfunits)\n",
    "print(solunits)\n",
    "print(swsunits)\n",
    "print(tmpunits)"
   ]
  },
  {
   "cell_type": "code",
   "execution_count": 12,
   "metadata": {},
   "outputs": [
    {
     "data": {
      "text/plain": [
       "(0, 133.953)"
      ]
     },
     "execution_count": 12,
     "metadata": {},
     "output_type": "execute_result"
    },
    {
     "data": {
      "image/png": "[encoded data removed]",
      "text/plain": [
       "<Figure size 864x576 with 1 Axes>"
      ]
     },
     "metadata": {
      "needs_background": "light"
     },
     "output_type": "display_data"
    }
   ],
   "source": [
    "fig, ax = plt.subplots(figsize=(12,8))\n",
    "ax.plot(parkaqmetdf['O3'])\n",
    "ax.set_ylim(0)"
   ]
  },
  {
   "cell_type": "code",
   "execution_count": 13,
   "metadata": {},
   "outputs": [
    {
     "data": {
      "text/plain": [
       "(0, 104.95)"
      ]
     },
     "execution_count": 13,
     "metadata": {},
     "output_type": "execute_result"
    },
    {
     "data": {
      "image/png": "[encoded data removed]",
      "text/plain": [
       "<Figure size 864x576 with 1 Axes>"
      ]
     },
     "metadata": {
      "needs_background": "light"
     },
     "output_type": "display_data"
    }
   ],
   "source": [
    "fig, ax = plt.subplots(figsize=(12,8))\n",
    "ax.plot(parkaqmetdf['RH'])\n",
    "ax.set_ylim(0)"
   ]
  },
  {
   "cell_type": "code",
   "execution_count": 14,
   "metadata": {},
   "outputs": [
    {
     "data": {
      "text/plain": [
       "(0, 24.801000000000002)"
      ]
     },
     "execution_count": 14,
     "metadata": {},
     "output_type": "execute_result"
    },
    {
     "data": {
      "image/png": "[encoded data removed]",
      "text/plain": [
       "<Figure size 864x576 with 1 Axes>"
      ]
     },
     "metadata": {
      "needs_background": "light"
     },
     "output_type": "display_data"
    }
   ],
   "source": [
    "fig, ax = plt.subplots(figsize=(12,8))\n",
    "ax.plot(parkaqmetdf['RNF'])\n",
    "ax.set_ylim(0)"
   ]
  },
  {
   "cell_type": "code",
   "execution_count": 15,
   "metadata": {},
   "outputs": [
    {
     "data": {
      "text/plain": [
       "(0, 1258.406)"
      ]
     },
     "execution_count": 15,
     "metadata": {},
     "output_type": "execute_result"
    },
    {
     "data": {
      "image/png": "[encoded data removed]",
      "text/plain": [
       "<Figure size 864x576 with 1 Axes>"
      ]
     },
     "metadata": {
      "needs_background": "light"
     },
     "output_type": "display_data"
    }
   ],
   "source": [
    "fig, ax = plt.subplots(figsize=(12,8))\n",
    "ax.plot(parkaqmetdf['SOL'])\n",
    "ax.set_ylim(0)"
   ]
  },
  {
   "cell_type": "code",
   "execution_count": 16,
   "metadata": {},
   "outputs": [
    {
     "data": {
      "text/plain": [
       "(0, 46.497)"
      ]
     },
     "execution_count": 16,
     "metadata": {},
     "output_type": "execute_result"
    },
    {
     "data": {
      "image/png": "[encoded data removed]",
      "text/plain": [
       "<Figure size 864x576 with 1 Axes>"
      ]
     },
     "metadata": {
      "needs_background": "light"
     },
     "output_type": "display_data"
    }
   ],
   "source": [
    "fig, ax = plt.subplots(figsize=(12,8))\n",
    "ax.plot(parkaqmetdf['TMP'])\n",
    "ax.set_ylim(0)"
   ]
  },
  {
   "cell_type": "code",
   "execution_count": 19,
   "metadata": {},
   "outputs": [],
   "source": [
    "### Now we have a 'complete' dataframe and is clean and consistent. Newest data is 2019. Oldest is 1987 (for denali)\n",
    "### Pick out subset with only complete years.\n",
    "### Create 'mean' year and associated stdev with groupby. This is the first stab. It does remove a lot of variability in data, \n",
    "### but its a start.\n",
    "years = parkaqmetdf['RECORD_DATE'].dt.year\n",
    "lowyear = years.loc[0]\n",
    "highyear = years.iloc[-1]\n",
    "AQMET = parkaqmetdf.loc[parkaqmetdf['RECORD_DATE'].dt.year.between(lowyear,highyear,inclusive=False)]"
   ]
  },
  {
   "cell_type": "code",
   "execution_count": 20,
   "metadata": {},
   "outputs": [],
   "source": [
    "meanyear = AQMET.groupby([AQMET['RECORD_DATE'].dt.month, AQMET['RECORD_DATE'].dt.day, AQMET['RECORD_DATE'].dt.hour]).mean()\n",
    "stdevyears = AQMET.groupby([AQMET['RECORD_DATE'].dt.month, AQMET['RECORD_DATE'].dt.day, AQMET['RECORD_DATE'].dt.hour]).std()"
   ]
  },
  {
   "cell_type": "markdown",
   "metadata": {},
   "source": [
    "### Now we can input the user preferences and search the mean year. Lets also pull out the months and days these preferences occur. "
   ]
  },
  {
   "cell_type": "code",
   "execution_count": 21,
   "metadata": {},
   "outputs": [],
   "source": [
    "meetscriteria = meanyear.loc[(meanyear['O3'].between(o3low,o3high,inclusive=True))\\\n",
    "                                   & (meanyear['RH'].between(rhlow,rhhigh,inclusive=True))\\\n",
    "                                   & (meanyear['RNF'].between(rnflow,rnfhigh,inclusive=True))\\\n",
    "                                   & (meanyear['SOL'].between(sollow,solhigh,inclusive=True))\\\n",
    "                                   & (meanyear['SWS'].between(wslow,wshigh,inclusive=True))\\\n",
    "                                   & (meanyear['TMP'].between(tmplow,tmphigh,inclusive=True))]\n",
    "\n",
    "month=meetscriteria.index.get_level_values(0)\n",
    "day=meetscriteria.index.get_level_values(1)   \n",
    "\n",
    "stdevcriteria = stdevyears.loc[(meanyear['O3'].between(o3low,o3high,inclusive=True))\\\n",
    "                                   & (meanyear['RH'].between(rhlow,rhhigh,inclusive=True))\\\n",
    "                                   & (meanyear['RNF'].between(rnflow,rnfhigh,inclusive=True))\\\n",
    "                                   & (meanyear['SOL'].between(sollow,solhigh,inclusive=True))\\\n",
    "                                   & (meanyear['SWS'].between(wslow,wshigh,inclusive=True))\\\n",
    "                                   & (meanyear['TMP'].between(tmplow,tmphigh,inclusive=True))]\n"
   ]
  },
  {
   "cell_type": "code",
   "execution_count": 22,
   "metadata": {},
   "outputs": [
    {
     "data": {
      "text/html": [
       "<div>\n",
       "<style scoped>\n",
       "    .dataframe tbody tr th:only-of-type {\n",
       "        vertical-align: middle;\n",
       "    }\n",
       "\n",
       "    .dataframe tbody tr th {\n",
       "        vertical-align: top;\n",
       "    }\n",
       "\n",
       "    .dataframe thead th {\n",
       "        text-align: right;\n",
       "    }\n",
       "</style>\n",
       "<table border=\"1\" class=\"dataframe\">\n",
       "  <thead>\n",
       "    <tr style=\"text-align: right;\">\n",
       "      <th></th>\n",
       "      <th></th>\n",
       "      <th></th>\n",
       "      <th>O3</th>\n",
       "      <th>RH</th>\n",
       "      <th>RNF</th>\n",
       "      <th>SDWD</th>\n",
       "      <th>SOL</th>\n",
       "      <th>SWS</th>\n",
       "      <th>TMP</th>\n",
       "      <th>VWD</th>\n",
       "      <th>VWS</th>\n",
       "    </tr>\n",
       "    <tr>\n",
       "      <th>RECORD_DATE</th>\n",
       "      <th>RECORD_DATE</th>\n",
       "      <th>RECORD_DATE</th>\n",
       "      <th></th>\n",
       "      <th></th>\n",
       "      <th></th>\n",
       "      <th></th>\n",
       "      <th></th>\n",
       "      <th></th>\n",
       "      <th></th>\n",
       "      <th></th>\n",
       "      <th></th>\n",
       "    </tr>\n",
       "  </thead>\n",
       "  <tbody>\n",
       "    <tr>\n",
       "      <td rowspan=\"3\" valign=\"top\">4</td>\n",
       "      <td>13</td>\n",
       "      <td>10</td>\n",
       "      <td>43.944000</td>\n",
       "      <td>35.788000</td>\n",
       "      <td>0.010000</td>\n",
       "      <td>45.048000</td>\n",
       "      <td>663.964000</td>\n",
       "      <td>1.651000</td>\n",
       "      <td>12.861000</td>\n",
       "      <td>196.7500</td>\n",
       "      <td>1.5860</td>\n",
       "    </tr>\n",
       "    <tr>\n",
       "      <td>21</td>\n",
       "      <td>9</td>\n",
       "      <td>43.795455</td>\n",
       "      <td>38.561429</td>\n",
       "      <td>0.000000</td>\n",
       "      <td>39.518333</td>\n",
       "      <td>695.520833</td>\n",
       "      <td>1.690833</td>\n",
       "      <td>12.420000</td>\n",
       "      <td>222.7260</td>\n",
       "      <td>1.0520</td>\n",
       "    </tr>\n",
       "    <tr>\n",
       "      <td>22</td>\n",
       "      <td>9</td>\n",
       "      <td>43.913636</td>\n",
       "      <td>37.115714</td>\n",
       "      <td>0.000000</td>\n",
       "      <td>36.302500</td>\n",
       "      <td>666.657500</td>\n",
       "      <td>1.475000</td>\n",
       "      <td>12.907500</td>\n",
       "      <td>221.0340</td>\n",
       "      <td>1.0680</td>\n",
       "    </tr>\n",
       "    <tr>\n",
       "      <td rowspan=\"2\" valign=\"top\">5</td>\n",
       "      <td>2</td>\n",
       "      <td>9</td>\n",
       "      <td>44.934615</td>\n",
       "      <td>43.188750</td>\n",
       "      <td>0.069231</td>\n",
       "      <td>41.675000</td>\n",
       "      <td>562.519231</td>\n",
       "      <td>1.311667</td>\n",
       "      <td>12.547692</td>\n",
       "      <td>190.2975</td>\n",
       "      <td>0.8125</td>\n",
       "    </tr>\n",
       "    <tr>\n",
       "      <td>3</td>\n",
       "      <td>9</td>\n",
       "      <td>43.978462</td>\n",
       "      <td>41.607500</td>\n",
       "      <td>0.100000</td>\n",
       "      <td>38.032500</td>\n",
       "      <td>604.829231</td>\n",
       "      <td>1.468333</td>\n",
       "      <td>13.204615</td>\n",
       "      <td>226.3875</td>\n",
       "      <td>0.8700</td>\n",
       "    </tr>\n",
       "    <tr>\n",
       "      <td>...</td>\n",
       "      <td>...</td>\n",
       "      <td>...</td>\n",
       "      <td>...</td>\n",
       "      <td>...</td>\n",
       "      <td>...</td>\n",
       "      <td>...</td>\n",
       "      <td>...</td>\n",
       "      <td>...</td>\n",
       "      <td>...</td>\n",
       "      <td>...</td>\n",
       "      <td>...</td>\n",
       "    </tr>\n",
       "    <tr>\n",
       "      <td rowspan=\"5\" valign=\"top\">11</td>\n",
       "      <td rowspan=\"2\" valign=\"top\">1</td>\n",
       "      <td>13</td>\n",
       "      <td>40.223333</td>\n",
       "      <td>46.212500</td>\n",
       "      <td>0.100000</td>\n",
       "      <td>32.986667</td>\n",
       "      <td>392.783333</td>\n",
       "      <td>1.743333</td>\n",
       "      <td>13.990000</td>\n",
       "      <td>169.5660</td>\n",
       "      <td>1.3960</td>\n",
       "    </tr>\n",
       "    <tr>\n",
       "      <td>14</td>\n",
       "      <td>41.065556</td>\n",
       "      <td>41.802500</td>\n",
       "      <td>0.062500</td>\n",
       "      <td>33.863333</td>\n",
       "      <td>320.608889</td>\n",
       "      <td>1.797778</td>\n",
       "      <td>14.986667</td>\n",
       "      <td>166.7220</td>\n",
       "      <td>1.6820</td>\n",
       "    </tr>\n",
       "    <tr>\n",
       "      <td rowspan=\"2\" valign=\"top\">2</td>\n",
       "      <td>12</td>\n",
       "      <td>39.036667</td>\n",
       "      <td>36.535000</td>\n",
       "      <td>0.000000</td>\n",
       "      <td>39.966667</td>\n",
       "      <td>552.613333</td>\n",
       "      <td>1.695556</td>\n",
       "      <td>13.044444</td>\n",
       "      <td>223.4920</td>\n",
       "      <td>1.6180</td>\n",
       "    </tr>\n",
       "    <tr>\n",
       "      <td>14</td>\n",
       "      <td>41.836667</td>\n",
       "      <td>30.040000</td>\n",
       "      <td>0.000000</td>\n",
       "      <td>34.184444</td>\n",
       "      <td>404.747778</td>\n",
       "      <td>1.908889</td>\n",
       "      <td>14.770000</td>\n",
       "      <td>186.9060</td>\n",
       "      <td>1.8540</td>\n",
       "    </tr>\n",
       "    <tr>\n",
       "      <td>6</td>\n",
       "      <td>14</td>\n",
       "      <td>42.958889</td>\n",
       "      <td>32.790000</td>\n",
       "      <td>0.000000</td>\n",
       "      <td>31.668889</td>\n",
       "      <td>390.321111</td>\n",
       "      <td>1.891111</td>\n",
       "      <td>12.131111</td>\n",
       "      <td>209.1380</td>\n",
       "      <td>2.0440</td>\n",
       "    </tr>\n",
       "  </tbody>\n",
       "</table>\n",
       "<p>204 rows × 9 columns</p>\n",
       "</div>"
      ],
      "text/plain": [
       "                                            O3         RH       RNF  \\\n",
       "RECORD_DATE RECORD_DATE RECORD_DATE                                   \n",
       "4           13          10           43.944000  35.788000  0.010000   \n",
       "            21          9            43.795455  38.561429  0.000000   \n",
       "            22          9            43.913636  37.115714  0.000000   \n",
       "5           2           9            44.934615  43.188750  0.069231   \n",
       "            3           9            43.978462  41.607500  0.100000   \n",
       "...                                        ...        ...       ...   \n",
       "11          1           13           40.223333  46.212500  0.100000   \n",
       "                        14           41.065556  41.802500  0.062500   \n",
       "            2           12           39.036667  36.535000  0.000000   \n",
       "                        14           41.836667  30.040000  0.000000   \n",
       "            6           14           42.958889  32.790000  0.000000   \n",
       "\n",
       "                                          SDWD         SOL       SWS  \\\n",
       "RECORD_DATE RECORD_DATE RECORD_DATE                                    \n",
       "4           13          10           45.048000  663.964000  1.651000   \n",
       "            21          9            39.518333  695.520833  1.690833   \n",
       "            22          9            36.302500  666.657500  1.475000   \n",
       "5           2           9            41.675000  562.519231  1.311667   \n",
       "            3           9            38.032500  604.829231  1.468333   \n",
       "...                                        ...         ...       ...   \n",
       "11          1           13           32.986667  392.783333  1.743333   \n",
       "                        14           33.863333  320.608889  1.797778   \n",
       "            2           12           39.966667  552.613333  1.695556   \n",
       "                        14           34.184444  404.747778  1.908889   \n",
       "            6           14           31.668889  390.321111  1.891111   \n",
       "\n",
       "                                           TMP       VWD     VWS  \n",
       "RECORD_DATE RECORD_DATE RECORD_DATE                               \n",
       "4           13          10           12.861000  196.7500  1.5860  \n",
       "            21          9            12.420000  222.7260  1.0520  \n",
       "            22          9            12.907500  221.0340  1.0680  \n",
       "5           2           9            12.547692  190.2975  0.8125  \n",
       "            3           9            13.204615  226.3875  0.8700  \n",
       "...                                        ...       ...     ...  \n",
       "11          1           13           13.990000  169.5660  1.3960  \n",
       "                        14           14.986667  166.7220  1.6820  \n",
       "            2           12           13.044444  223.4920  1.6180  \n",
       "                        14           14.770000  186.9060  1.8540  \n",
       "            6           14           12.131111  209.1380  2.0440  \n",
       "\n",
       "[204 rows x 9 columns]"
      ]
     },
     "execution_count": 22,
     "metadata": {},
     "output_type": "execute_result"
    }
   ],
   "source": [
    "meetscriteria"
   ]
  },
  {
   "cell_type": "markdown",
   "metadata": {},
   "source": [
    "### Averaging will likely get rid of a lot of the variability. What will that look like?"
   ]
  },
  {
   "cell_type": "code",
   "execution_count": 23,
   "metadata": {},
   "outputs": [
    {
     "data": {
      "text/html": [
       "<div>\n",
       "<style scoped>\n",
       "    .dataframe tbody tr th:only-of-type {\n",
       "        vertical-align: middle;\n",
       "    }\n",
       "\n",
       "    .dataframe tbody tr th {\n",
       "        vertical-align: top;\n",
       "    }\n",
       "\n",
       "    .dataframe thead th {\n",
       "        text-align: right;\n",
       "    }\n",
       "</style>\n",
       "<table border=\"1\" class=\"dataframe\">\n",
       "  <thead>\n",
       "    <tr style=\"text-align: right;\">\n",
       "      <th></th>\n",
       "      <th></th>\n",
       "      <th></th>\n",
       "      <th>O3</th>\n",
       "      <th>RH</th>\n",
       "      <th>RNF</th>\n",
       "      <th>SDWD</th>\n",
       "      <th>SOL</th>\n",
       "      <th>SWS</th>\n",
       "      <th>TMP</th>\n",
       "      <th>VWD</th>\n",
       "      <th>VWS</th>\n",
       "    </tr>\n",
       "    <tr>\n",
       "      <th>RECORD_DATE</th>\n",
       "      <th>RECORD_DATE</th>\n",
       "      <th>RECORD_DATE</th>\n",
       "      <th></th>\n",
       "      <th></th>\n",
       "      <th></th>\n",
       "      <th></th>\n",
       "      <th></th>\n",
       "      <th></th>\n",
       "      <th></th>\n",
       "      <th></th>\n",
       "      <th></th>\n",
       "    </tr>\n",
       "  </thead>\n",
       "  <tbody>\n",
       "    <tr>\n",
       "      <td rowspan=\"3\" valign=\"top\">4</td>\n",
       "      <td>13</td>\n",
       "      <td>10</td>\n",
       "      <td>6.671738</td>\n",
       "      <td>8.873315</td>\n",
       "      <td>0.031623</td>\n",
       "      <td>11.619854</td>\n",
       "      <td>238.991537</td>\n",
       "      <td>0.853938</td>\n",
       "      <td>4.570963</td>\n",
       "      <td>101.532947</td>\n",
       "      <td>0.768720</td>\n",
       "    </tr>\n",
       "    <tr>\n",
       "      <td>21</td>\n",
       "      <td>9</td>\n",
       "      <td>7.079454</td>\n",
       "      <td>13.209651</td>\n",
       "      <td>0.000000</td>\n",
       "      <td>11.717400</td>\n",
       "      <td>36.341286</td>\n",
       "      <td>0.888558</td>\n",
       "      <td>3.678646</td>\n",
       "      <td>17.950133</td>\n",
       "      <td>0.357309</td>\n",
       "    </tr>\n",
       "    <tr>\n",
       "      <td>22</td>\n",
       "      <td>9</td>\n",
       "      <td>7.057124</td>\n",
       "      <td>13.950275</td>\n",
       "      <td>0.000000</td>\n",
       "      <td>13.027448</td>\n",
       "      <td>118.694514</td>\n",
       "      <td>0.731580</td>\n",
       "      <td>4.126881</td>\n",
       "      <td>28.110453</td>\n",
       "      <td>0.490887</td>\n",
       "    </tr>\n",
       "    <tr>\n",
       "      <td rowspan=\"2\" valign=\"top\">5</td>\n",
       "      <td>2</td>\n",
       "      <td>9</td>\n",
       "      <td>5.463573</td>\n",
       "      <td>16.963765</td>\n",
       "      <td>0.179743</td>\n",
       "      <td>14.732898</td>\n",
       "      <td>223.552302</td>\n",
       "      <td>0.341383</td>\n",
       "      <td>4.562837</td>\n",
       "      <td>78.380260</td>\n",
       "      <td>0.473101</td>\n",
       "    </tr>\n",
       "    <tr>\n",
       "      <td>3</td>\n",
       "      <td>9</td>\n",
       "      <td>7.413418</td>\n",
       "      <td>14.404947</td>\n",
       "      <td>0.360555</td>\n",
       "      <td>12.030413</td>\n",
       "      <td>194.660414</td>\n",
       "      <td>0.389518</td>\n",
       "      <td>3.715130</td>\n",
       "      <td>15.559470</td>\n",
       "      <td>0.319687</td>\n",
       "    </tr>\n",
       "    <tr>\n",
       "      <td>...</td>\n",
       "      <td>...</td>\n",
       "      <td>...</td>\n",
       "      <td>...</td>\n",
       "      <td>...</td>\n",
       "      <td>...</td>\n",
       "      <td>...</td>\n",
       "      <td>...</td>\n",
       "      <td>...</td>\n",
       "      <td>...</td>\n",
       "      <td>...</td>\n",
       "      <td>...</td>\n",
       "    </tr>\n",
       "    <tr>\n",
       "      <td rowspan=\"5\" valign=\"top\">11</td>\n",
       "      <td rowspan=\"2\" valign=\"top\">1</td>\n",
       "      <td>13</td>\n",
       "      <td>3.124944</td>\n",
       "      <td>27.748029</td>\n",
       "      <td>0.282843</td>\n",
       "      <td>12.749524</td>\n",
       "      <td>150.410939</td>\n",
       "      <td>0.918940</td>\n",
       "      <td>4.419406</td>\n",
       "      <td>47.194201</td>\n",
       "      <td>1.243415</td>\n",
       "    </tr>\n",
       "    <tr>\n",
       "      <td>14</td>\n",
       "      <td>3.143816</td>\n",
       "      <td>25.561521</td>\n",
       "      <td>0.176777</td>\n",
       "      <td>12.763961</td>\n",
       "      <td>104.106454</td>\n",
       "      <td>1.312153</td>\n",
       "      <td>4.348008</td>\n",
       "      <td>63.962035</td>\n",
       "      <td>1.847869</td>\n",
       "    </tr>\n",
       "    <tr>\n",
       "      <td rowspan=\"2\" valign=\"top\">2</td>\n",
       "      <td>12</td>\n",
       "      <td>7.521931</td>\n",
       "      <td>8.547286</td>\n",
       "      <td>0.000000</td>\n",
       "      <td>12.544402</td>\n",
       "      <td>90.674379</td>\n",
       "      <td>0.639787</td>\n",
       "      <td>3.692279</td>\n",
       "      <td>16.643103</td>\n",
       "      <td>0.586490</td>\n",
       "    </tr>\n",
       "    <tr>\n",
       "      <td>14</td>\n",
       "      <td>5.370438</td>\n",
       "      <td>4.372307</td>\n",
       "      <td>0.000000</td>\n",
       "      <td>14.733466</td>\n",
       "      <td>47.548898</td>\n",
       "      <td>1.069760</td>\n",
       "      <td>3.928034</td>\n",
       "      <td>41.232320</td>\n",
       "      <td>1.487222</td>\n",
       "    </tr>\n",
       "    <tr>\n",
       "      <td>6</td>\n",
       "      <td>14</td>\n",
       "      <td>5.791264</td>\n",
       "      <td>1.698215</td>\n",
       "      <td>0.000000</td>\n",
       "      <td>12.947736</td>\n",
       "      <td>41.676928</td>\n",
       "      <td>1.182153</td>\n",
       "      <td>4.206336</td>\n",
       "      <td>50.390776</td>\n",
       "      <td>1.512359</td>\n",
       "    </tr>\n",
       "  </tbody>\n",
       "</table>\n",
       "<p>204 rows × 9 columns</p>\n",
       "</div>"
      ],
      "text/plain": [
       "                                           O3         RH       RNF       SDWD  \\\n",
       "RECORD_DATE RECORD_DATE RECORD_DATE                                             \n",
       "4           13          10           6.671738   8.873315  0.031623  11.619854   \n",
       "            21          9            7.079454  13.209651  0.000000  11.717400   \n",
       "            22          9            7.057124  13.950275  0.000000  13.027448   \n",
       "5           2           9            5.463573  16.963765  0.179743  14.732898   \n",
       "            3           9            7.413418  14.404947  0.360555  12.030413   \n",
       "...                                       ...        ...       ...        ...   \n",
       "11          1           13           3.124944  27.748029  0.282843  12.749524   \n",
       "                        14           3.143816  25.561521  0.176777  12.763961   \n",
       "            2           12           7.521931   8.547286  0.000000  12.544402   \n",
       "                        14           5.370438   4.372307  0.000000  14.733466   \n",
       "            6           14           5.791264   1.698215  0.000000  12.947736   \n",
       "\n",
       "                                            SOL       SWS       TMP  \\\n",
       "RECORD_DATE RECORD_DATE RECORD_DATE                                   \n",
       "4           13          10           238.991537  0.853938  4.570963   \n",
       "            21          9             36.341286  0.888558  3.678646   \n",
       "            22          9            118.694514  0.731580  4.126881   \n",
       "5           2           9            223.552302  0.341383  4.562837   \n",
       "            3           9            194.660414  0.389518  3.715130   \n",
       "...                                         ...       ...       ...   \n",
       "11          1           13           150.410939  0.918940  4.419406   \n",
       "                        14           104.106454  1.312153  4.348008   \n",
       "            2           12            90.674379  0.639787  3.692279   \n",
       "                        14            47.548898  1.069760  3.928034   \n",
       "            6           14            41.676928  1.182153  4.206336   \n",
       "\n",
       "                                            VWD       VWS  \n",
       "RECORD_DATE RECORD_DATE RECORD_DATE                        \n",
       "4           13          10           101.532947  0.768720  \n",
       "            21          9             17.950133  0.357309  \n",
       "            22          9             28.110453  0.490887  \n",
       "5           2           9             78.380260  0.473101  \n",
       "            3           9             15.559470  0.319687  \n",
       "...                                         ...       ...  \n",
       "11          1           13            47.194201  1.243415  \n",
       "                        14            63.962035  1.847869  \n",
       "            2           12            16.643103  0.586490  \n",
       "                        14            41.232320  1.487222  \n",
       "            6           14            50.390776  1.512359  \n",
       "\n",
       "[204 rows x 9 columns]"
      ]
     },
     "execution_count": 23,
     "metadata": {},
     "output_type": "execute_result"
    }
   ],
   "source": [
    "stdevcriteria"
   ]
  },
  {
   "cell_type": "markdown",
   "metadata": {},
   "source": [
    "### How do we get the output of the month and day into an array? Create empty data frame that we will populate with the output of the preferences finder above."
   ]
  },
  {
   "cell_type": "code",
   "execution_count": 24,
   "metadata": {},
   "outputs": [],
   "source": [
    "#nummonths = month.size\n",
    "#numdays = day.size\n",
    "uniquedays = len(meetscriteria)\n",
    "\n",
    "\n",
    "monthday = [month, day]\n",
    "monthday = np.asanyarray(monthday)#array with each column as month-day (row 0 is months and row 1 is days)\n",
    "\n"
   ]
  },
  {
   "cell_type": "code",
   "execution_count": 17,
   "metadata": {},
   "outputs": [],
   "source": [
    "#getting the sub DF based on May 25th and June 3rd. It works! NEED TO FIGURE OUT HOW TO NOT HARDCODE THIS!\n",
    "#for loop?\n",
    "#test=meanyear.loc[(meanyear.index.get_level_values(level=0) == monthday[0,0])\\\n",
    "#                  & (meanyear.index.get_level_values(level=1) == monthday[1,0])]\n",
    "\n",
    "#test2 = meanyear.loc[(meanyear.index.get_level_values(level=0) == monthday[0,1])\\\n",
    "#                  & (meanyear.index.get_level_values(level=1) == monthday[1,1])]"
   ]
  },
  {
   "cell_type": "code",
   "execution_count": 25,
   "metadata": {},
   "outputs": [
    {
     "ename": "NameError",
     "evalue": "name 'test2' is not defined",
     "output_type": "error",
     "traceback": [
      "\u001b[1;31m---------------------------------------------------------------------------\u001b[0m",
      "\u001b[1;31mNameError\u001b[0m                                 Traceback (most recent call last)",
      "\u001b[1;32m<ipython-input-25-c49ca98848f0>\u001b[0m in \u001b[0;36m<module>\u001b[1;34m\u001b[0m\n\u001b[0;32m      1\u001b[0m \u001b[1;31m#My first plot!\u001b[0m\u001b[1;33m\u001b[0m\u001b[1;33m\u001b[0m\u001b[1;33m\u001b[0m\u001b[0m\n\u001b[0;32m      2\u001b[0m \u001b[0mfig\u001b[0m\u001b[1;33m,\u001b[0m \u001b[0max\u001b[0m \u001b[1;33m=\u001b[0m \u001b[0mplt\u001b[0m\u001b[1;33m.\u001b[0m\u001b[0msubplots\u001b[0m\u001b[1;33m(\u001b[0m\u001b[0mfigsize\u001b[0m\u001b[1;33m=\u001b[0m\u001b[1;33m(\u001b[0m\u001b[1;36m12\u001b[0m\u001b[1;33m,\u001b[0m\u001b[1;36m8\u001b[0m\u001b[1;33m)\u001b[0m\u001b[1;33m)\u001b[0m\u001b[1;33m\u001b[0m\u001b[1;33m\u001b[0m\u001b[0m\n\u001b[1;32m----> 3\u001b[1;33m \u001b[0max\u001b[0m\u001b[1;33m.\u001b[0m\u001b[0mplot\u001b[0m\u001b[1;33m(\u001b[0m\u001b[0mtest2\u001b[0m\u001b[1;33m.\u001b[0m\u001b[0mindex\u001b[0m\u001b[1;33m.\u001b[0m\u001b[0mget_level_values\u001b[0m\u001b[1;33m(\u001b[0m\u001b[0mlevel\u001b[0m\u001b[1;33m=\u001b[0m\u001b[1;36m2\u001b[0m\u001b[1;33m)\u001b[0m\u001b[1;33m,\u001b[0m\u001b[0mtest2\u001b[0m\u001b[1;33m[\u001b[0m\u001b[1;34m'O3'\u001b[0m\u001b[1;33m]\u001b[0m\u001b[1;33m)\u001b[0m\u001b[1;33m\u001b[0m\u001b[1;33m\u001b[0m\u001b[0m\n\u001b[0m\u001b[0;32m      4\u001b[0m \u001b[0max\u001b[0m\u001b[1;33m.\u001b[0m\u001b[0mset_ylim\u001b[0m\u001b[1;33m(\u001b[0m\u001b[1;36m0\u001b[0m\u001b[1;33m)\u001b[0m\u001b[1;33m\u001b[0m\u001b[1;33m\u001b[0m\u001b[0m\n\u001b[0;32m      5\u001b[0m \u001b[1;33m\u001b[0m\u001b[0m\n",
      "\u001b[1;31mNameError\u001b[0m: name 'test2' is not defined"
     ]
    },
    {
     "data": {
      "image/png": "[encoded data removed]",
      "text/plain": [
       "<Figure size 864x576 with 1 Axes>"
      ]
     },
     "metadata": {
      "needs_background": "light"
     },
     "output_type": "display_data"
    }
   ],
   "source": [
    "#My first plot!\n",
    "fig, ax = plt.subplots(figsize=(12,8))\n",
    "ax.plot(test2.index.get_level_values(level=2),test2['O3'])\n",
    "ax.set_ylim(0)\n"
   ]
  },
  {
   "cell_type": "markdown",
   "metadata": {},
   "source": [
    "### I think this for loop generalizes what I do in 16. It only created 1 df with all days. But I can now call based on those days."
   ]
  },
  {
   "cell_type": "code",
   "execution_count": 26,
   "metadata": {},
   "outputs": [],
   "source": [
    "perfect = pd.DataFrame([])\n",
    "for x in range(uniquedays):\n",
    "    a=meanyear.loc[(meanyear.index.get_level_values(level=0) == monthday[0,x])\\\n",
    "    & (meanyear.index.get_level_values(level=1) == monthday[1,x])]\n",
    "    perfect=perfect.append(a)\n"
   ]
  },
  {
   "cell_type": "code",
   "execution_count": null,
   "metadata": {},
   "outputs": [],
   "source": [
    "#This is a large one for DINO. Lets plot just one day.\n",
    "fig, ax = plt.subplots(figsize=(12,8))\n",
    "ax.plot(test2.index.get_level_values(level=2),test2['O3'])\n",
    "ax.set_ylim(0)\n"
   ]
  },
  {
   "cell_type": "code",
   "execution_count": 27,
   "metadata": {},
   "outputs": [
    {
     "data": {
      "text/html": [
       "<div>\n",
       "<style scoped>\n",
       "    .dataframe tbody tr th:only-of-type {\n",
       "        vertical-align: middle;\n",
       "    }\n",
       "\n",
       "    .dataframe tbody tr th {\n",
       "        vertical-align: top;\n",
       "    }\n",
       "\n",
       "    .dataframe thead th {\n",
       "        text-align: right;\n",
       "    }\n",
       "</style>\n",
       "<table border=\"1\" class=\"dataframe\">\n",
       "  <thead>\n",
       "    <tr style=\"text-align: right;\">\n",
       "      <th></th>\n",
       "      <th></th>\n",
       "      <th></th>\n",
       "      <th>O3</th>\n",
       "      <th>RH</th>\n",
       "      <th>RNF</th>\n",
       "      <th>SDWD</th>\n",
       "      <th>SOL</th>\n",
       "      <th>SWS</th>\n",
       "      <th>TMP</th>\n",
       "      <th>VWD</th>\n",
       "      <th>VWS</th>\n",
       "    </tr>\n",
       "    <tr>\n",
       "      <th>RECORD_DATE</th>\n",
       "      <th>RECORD_DATE</th>\n",
       "      <th>RECORD_DATE</th>\n",
       "      <th></th>\n",
       "      <th></th>\n",
       "      <th></th>\n",
       "      <th></th>\n",
       "      <th></th>\n",
       "      <th></th>\n",
       "      <th></th>\n",
       "      <th></th>\n",
       "      <th></th>\n",
       "    </tr>\n",
       "  </thead>\n",
       "  <tbody>\n",
       "    <tr>\n",
       "      <td rowspan=\"5\" valign=\"top\">4</td>\n",
       "      <td rowspan=\"5\" valign=\"top\">13</td>\n",
       "      <td>0</td>\n",
       "      <td>36.960000</td>\n",
       "      <td>54.0160</td>\n",
       "      <td>0.00</td>\n",
       "      <td>36.631000</td>\n",
       "      <td>0.296000</td>\n",
       "      <td>0.976000</td>\n",
       "      <td>7.218000</td>\n",
       "      <td>97.170</td>\n",
       "      <td>0.878</td>\n",
       "    </tr>\n",
       "    <tr>\n",
       "      <td>1</td>\n",
       "      <td>31.646000</td>\n",
       "      <td>61.1640</td>\n",
       "      <td>0.00</td>\n",
       "      <td>43.078000</td>\n",
       "      <td>0.297000</td>\n",
       "      <td>0.796000</td>\n",
       "      <td>6.100000</td>\n",
       "      <td>176.798</td>\n",
       "      <td>0.708</td>\n",
       "    </tr>\n",
       "    <tr>\n",
       "      <td>2</td>\n",
       "      <td>30.813000</td>\n",
       "      <td>65.5080</td>\n",
       "      <td>0.00</td>\n",
       "      <td>37.386000</td>\n",
       "      <td>0.293000</td>\n",
       "      <td>0.804000</td>\n",
       "      <td>5.315000</td>\n",
       "      <td>164.710</td>\n",
       "      <td>0.702</td>\n",
       "    </tr>\n",
       "    <tr>\n",
       "      <td>3</td>\n",
       "      <td>27.521000</td>\n",
       "      <td>67.1400</td>\n",
       "      <td>0.00</td>\n",
       "      <td>34.222000</td>\n",
       "      <td>0.291000</td>\n",
       "      <td>1.107000</td>\n",
       "      <td>4.511000</td>\n",
       "      <td>179.300</td>\n",
       "      <td>1.106</td>\n",
       "    </tr>\n",
       "    <tr>\n",
       "      <td>4</td>\n",
       "      <td>27.148000</td>\n",
       "      <td>71.6600</td>\n",
       "      <td>0.32</td>\n",
       "      <td>44.155000</td>\n",
       "      <td>0.289000</td>\n",
       "      <td>1.166000</td>\n",
       "      <td>3.415000</td>\n",
       "      <td>256.188</td>\n",
       "      <td>1.284</td>\n",
       "    </tr>\n",
       "    <tr>\n",
       "      <td>...</td>\n",
       "      <td>...</td>\n",
       "      <td>...</td>\n",
       "      <td>...</td>\n",
       "      <td>...</td>\n",
       "      <td>...</td>\n",
       "      <td>...</td>\n",
       "      <td>...</td>\n",
       "      <td>...</td>\n",
       "      <td>...</td>\n",
       "      <td>...</td>\n",
       "      <td>...</td>\n",
       "    </tr>\n",
       "    <tr>\n",
       "      <td rowspan=\"5\" valign=\"top\">11</td>\n",
       "      <td rowspan=\"5\" valign=\"top\">6</td>\n",
       "      <td>19</td>\n",
       "      <td>35.055556</td>\n",
       "      <td>59.9225</td>\n",
       "      <td>0.00</td>\n",
       "      <td>26.728889</td>\n",
       "      <td>0.313333</td>\n",
       "      <td>1.365556</td>\n",
       "      <td>6.636667</td>\n",
       "      <td>155.610</td>\n",
       "      <td>1.900</td>\n",
       "    </tr>\n",
       "    <tr>\n",
       "      <td>20</td>\n",
       "      <td>31.742222</td>\n",
       "      <td>64.0175</td>\n",
       "      <td>0.00</td>\n",
       "      <td>32.483333</td>\n",
       "      <td>0.310000</td>\n",
       "      <td>1.270000</td>\n",
       "      <td>5.611111</td>\n",
       "      <td>69.904</td>\n",
       "      <td>1.582</td>\n",
       "    </tr>\n",
       "    <tr>\n",
       "      <td>21</td>\n",
       "      <td>29.561111</td>\n",
       "      <td>70.3550</td>\n",
       "      <td>0.00</td>\n",
       "      <td>35.746667</td>\n",
       "      <td>0.312222</td>\n",
       "      <td>0.981111</td>\n",
       "      <td>4.622222</td>\n",
       "      <td>150.332</td>\n",
       "      <td>1.144</td>\n",
       "    </tr>\n",
       "    <tr>\n",
       "      <td>22</td>\n",
       "      <td>26.993333</td>\n",
       "      <td>74.3350</td>\n",
       "      <td>0.00</td>\n",
       "      <td>31.072222</td>\n",
       "      <td>0.310000</td>\n",
       "      <td>0.960000</td>\n",
       "      <td>3.722222</td>\n",
       "      <td>114.448</td>\n",
       "      <td>0.960</td>\n",
       "    </tr>\n",
       "    <tr>\n",
       "      <td>23</td>\n",
       "      <td>25.757778</td>\n",
       "      <td>74.6975</td>\n",
       "      <td>0.00</td>\n",
       "      <td>31.930000</td>\n",
       "      <td>0.308889</td>\n",
       "      <td>0.948889</td>\n",
       "      <td>2.965556</td>\n",
       "      <td>229.760</td>\n",
       "      <td>0.938</td>\n",
       "    </tr>\n",
       "  </tbody>\n",
       "</table>\n",
       "<p>4896 rows × 9 columns</p>\n",
       "</div>"
      ],
      "text/plain": [
       "                                            O3       RH   RNF       SDWD  \\\n",
       "RECORD_DATE RECORD_DATE RECORD_DATE                                        \n",
       "4           13          0            36.960000  54.0160  0.00  36.631000   \n",
       "                        1            31.646000  61.1640  0.00  43.078000   \n",
       "                        2            30.813000  65.5080  0.00  37.386000   \n",
       "                        3            27.521000  67.1400  0.00  34.222000   \n",
       "                        4            27.148000  71.6600  0.32  44.155000   \n",
       "...                                        ...      ...   ...        ...   \n",
       "11          6           19           35.055556  59.9225  0.00  26.728889   \n",
       "                        20           31.742222  64.0175  0.00  32.483333   \n",
       "                        21           29.561111  70.3550  0.00  35.746667   \n",
       "                        22           26.993333  74.3350  0.00  31.072222   \n",
       "                        23           25.757778  74.6975  0.00  31.930000   \n",
       "\n",
       "                                          SOL       SWS       TMP      VWD  \\\n",
       "RECORD_DATE RECORD_DATE RECORD_DATE                                          \n",
       "4           13          0            0.296000  0.976000  7.218000   97.170   \n",
       "                        1            0.297000  0.796000  6.100000  176.798   \n",
       "                        2            0.293000  0.804000  5.315000  164.710   \n",
       "                        3            0.291000  1.107000  4.511000  179.300   \n",
       "                        4            0.289000  1.166000  3.415000  256.188   \n",
       "...                                       ...       ...       ...      ...   \n",
       "11          6           19           0.313333  1.365556  6.636667  155.610   \n",
       "                        20           0.310000  1.270000  5.611111   69.904   \n",
       "                        21           0.312222  0.981111  4.622222  150.332   \n",
       "                        22           0.310000  0.960000  3.722222  114.448   \n",
       "                        23           0.308889  0.948889  2.965556  229.760   \n",
       "\n",
       "                                       VWS  \n",
       "RECORD_DATE RECORD_DATE RECORD_DATE         \n",
       "4           13          0            0.878  \n",
       "                        1            0.708  \n",
       "                        2            0.702  \n",
       "                        3            1.106  \n",
       "                        4            1.284  \n",
       "...                                    ...  \n",
       "11          6           19           1.900  \n",
       "                        20           1.582  \n",
       "                        21           1.144  \n",
       "                        22           0.960  \n",
       "                        23           0.938  \n",
       "\n",
       "[4896 rows x 9 columns]"
      ]
     },
     "execution_count": 27,
     "metadata": {},
     "output_type": "execute_result"
    }
   ],
   "source": [
    "perfect"
   ]
  },
  {
   "cell_type": "markdown",
   "metadata": {},
   "source": [
    "### Now for the linear regression stuff. First I will get rid of 2019 since it isn't complete yet."
   ]
  },
  {
   "cell_type": "code",
   "execution_count": 32,
   "metadata": {},
   "outputs": [
    {
     "data": {
      "text/plain": [
       "(0, 2019.95)"
      ]
     },
     "execution_count": 32,
     "metadata": {},
     "output_type": "execute_result"
    },
    {
     "data": {
      "image/png": "[encoded data removed]",
      "text/plain": [
       "<Figure size 864x576 with 1 Axes>"
      ]
     },
     "metadata": {
      "needs_background": "light"
     },
     "output_type": "display_data"
    }
   ],
   "source": [
    "visits1 = visits.drop([0])\n",
    "visits1 = visits1.sort_values('Year',ascending=True)\n",
    "fig, ax = plt.subplots(figsize=(12,8))\n",
    "ax.plot(visits1.loc[:,'Year'])\n",
    "ax.set_ylim(0)\n",
    "#visits1\n",
    "#This is doing what I want it to...\n"
   ]
  },
  {
   "cell_type": "code",
   "execution_count": 36,
   "metadata": {},
   "outputs": [
    {
     "name": "stdout",
     "output_type": "stream",
     "text": [
      "    Year    JAN    FEB    MAR    APR     MAY      JUN      JUL      AUG  \\\n",
      "40  1979    336    103    630    848  14,076   46,804   69,557   76,400   \n",
      "39  1980    198    146    401    633  12,791   27,623   61,983   73,791   \n",
      "38  1981    171    162    412    690  13,982   29,667   87,751   89,013   \n",
      "37  1982    142    118    378    706  13,747   62,926   92,544   93,941   \n",
      "36  1983    122    112    327    727  11,631   45,905  115,179  114,480   \n",
      "35  1984    111    122    273    667  11,872   75,277  113,103  106,906   \n",
      "34  1985    169    161    346    661  10,993   94,794  144,598  126,482   \n",
      "33  1986    134    162    553  1,951  18,729  105,083  159,012  175,203   \n",
      "32  1987     88     88    512    935  48,133  122,168  180,357  151,548   \n",
      "31  1988    100    130    259    906  56,162  181,452  183,647  107,346   \n",
      "30  1989     97    228    449    899  18,541   79,332  213,085  151,263   \n",
      "29  1990     94    198    328    551  11,950   72,836  222,077  155,352   \n",
      "28  1991     94     88    176    648   6,943   72,678  221,853  179,161   \n",
      "27  1992     94     94     98  1,249  29,254  120,640  172,504  128,464   \n",
      "26  1993     80    105    469  1,380  32,807  118,163  172,580  143,031   \n",
      "25  1994     85     88    400  2,190  36,235  132,634  130,807  143,388   \n",
      "24  1995     84     88    400  2,948  25,415  150,886  150,533  169,322   \n",
      "23  1996      9      7     52    200  24,676   80,725  105,447   94,342   \n",
      "22  1997     54     49    271    779  23,058   86,916  113,436   94,585   \n",
      "21  1998     36     75    261    626  26,131   92,670  115,478  100,141   \n",
      "20  1999     29     79    207    458  23,686   95,652  120,134  102,573   \n",
      "19  2000     22    115    216    500  23,810   92,862  111,929   97,581   \n",
      "18  2001     42    252    464    861  25,020   89,229  109,881   99,767   \n",
      "17  2002    101     90  1,858  2,437  25,525   84,916  105,422   60,231   \n",
      "16  2003    975    886    753  2,985  27,260   88,471  104,686   97,821   \n",
      "15  2004    313    392  1,441  3,087  30,132  100,127  116,601  108,097   \n",
      "14  2005    403    751  2,118  1,451  27,022   99,756  114,308  108,451   \n",
      "13  2006    442    272    891  7,764  28,829  111,060  123,246   98,605   \n",
      "12  2007  3,136  3,769  5,846  2,665  37,143  111,767  129,454  116,065   \n",
      "11  2008    351    702    918  1,959  27,773  114,888  129,762  119,541   \n",
      "10  2009     64    871    723  1,549  24,759   90,662  102,992   97,307   \n",
      "9   2010    298    669  1,178  2,952  29,350   90,821  110,592  104,398   \n",
      "8   2011    247    701  1,142  7,514  33,549   92,585  118,271  105,823   \n",
      "7   2012    263    195  1,896  2,913  32,983  101,260  102,316  108,208   \n",
      "6   2013    319  1,001  1,300  2,065  44,947  127,243  153,636  140,079   \n",
      "5   2014    396  1,019  2,231  2,883  49,380  127,291  151,285  138,254   \n",
      "4   2015    326    851  2,597  2,573  55,920  136,454  155,987  146,067   \n",
      "3   2016    500  1,303  2,948  5,057  50,776  139,310  160,357  151,365   \n",
      "2   2017    725  1,467  3,449  5,314  62,497  158,590  182,400  155,201   \n",
      "1   2018    890  1,710  4,457  3,653  52,147  141,216  168,177  150,861   \n",
      "\n",
      "       SEP     OCT    NOV    DEC Textbox5  \n",
      "40  39,063   1,844    974    470  251,105  \n",
      "39  36,250   1,564    828    153  216,361  \n",
      "38  32,099   1,484    887    275  256,593  \n",
      "37  55,433   1,378    433    122  321,868  \n",
      "36  55,888   1,162    441    108  346,082  \n",
      "35  84,384   1,499    724    161  395,099  \n",
      "34  55,241   1,854    788    458  436,545  \n",
      "33  66,564   2,182     88     88  529,749  \n",
      "32  66,853   4,155     88     88  575,013  \n",
      "31  36,561  25,692     88     88  592,431  \n",
      "30  74,812   4,743     94     97  543,640  \n",
      "29  78,385   4,740     94     88  546,693  \n",
      "28  76,009   1,020     96    104  558,870  \n",
      "27  50,874     107     96    200  503,674  \n",
      "26  35,688   1,106     96     60  505,565  \n",
      "25  43,206   1,116    100     62  490,311  \n",
      "24  43,502     110     15      6  543,309  \n",
      "23  35,810      78     21     18  341,385  \n",
      "22  34,824     177     84     45  354,278  \n",
      "21  36,692     274     90     45  372,519  \n",
      "20  43,848     141     48     12  386,867  \n",
      "19  36,820      77      6     45  363,983  \n",
      "18  34,520      72     66     17  360,191  \n",
      "17  30,383     254     91     27  311,335  \n",
      "16  34,639     889    374    450  360,189  \n",
      "15  39,969   2,525  1,059    493  404,236  \n",
      "14  38,121   5,716  2,922  2,501  403,520  \n",
      "13  43,598     550    470    208  415,935  \n",
      "12  47,150     807    329    177  458,308  \n",
      "11  35,623     521    114    157  432,309  \n",
      "10  37,707     969    183    255  358,041  \n",
      "9   37,428     764    173    232  378,855  \n",
      "8   45,263     954    273    260  406,582  \n",
      "7   37,184     740    240    235  388,433  \n",
      "6   59,490     313    240    289  530,922  \n",
      "5   56,890     846    455    385  531,315  \n",
      "4   57,612   1,474    461    435  560,757  \n",
      "3   69,907   2,934  1,446  1,509  587,412  \n",
      "2   68,323   2,434    918  1,491  642,809  \n",
      "1   65,251   3,650  1,996    652  594,660  \n"
     ]
    },
    {
     "data": {
      "text/plain": [
       "40    14,076\n",
       "39    12,791\n",
       "38    13,982\n",
       "37    13,747\n",
       "36    11,631\n",
       "35    11,872\n",
       "34    10,993\n",
       "33    18,729\n",
       "32    48,133\n",
       "31    56,162\n",
       "30    18,541\n",
       "29    11,950\n",
       "28     6,943\n",
       "27    29,254\n",
       "26    32,807\n",
       "25    36,235\n",
       "24    25,415\n",
       "23    24,676\n",
       "22    23,058\n",
       "21    26,131\n",
       "20    23,686\n",
       "19    23,810\n",
       "18    25,020\n",
       "17    25,525\n",
       "16    27,260\n",
       "15    30,132\n",
       "14    27,022\n",
       "13    28,829\n",
       "12    37,143\n",
       "11    27,773\n",
       "10    24,759\n",
       "9     29,350\n",
       "8     33,549\n",
       "7     32,983\n",
       "6     44,947\n",
       "5     49,380\n",
       "4     55,920\n",
       "3     50,776\n",
       "2     62,497\n",
       "1     52,147\n",
       "Name: MAY, dtype: object"
      ]
     },
     "execution_count": 36,
     "metadata": {},
     "output_type": "execute_result"
    }
   ],
   "source": [
    "print(visits1)\n",
    "visits1.loc[:,'MAY']"
   ]
  }
 ],
 "metadata": {
  "kernelspec": {
   "display_name": "Python 3",
   "language": "python",
   "name": "python3"
  },
  "language_info": {
   "codemirror_mode": {
    "name": "ipython",
    "version": 3
   },
   "file_extension": ".py",
   "mimetype": "text/x-python",
   "name": "python",
   "nbconvert_exporter": "python",
   "pygments_lexer": "ipython3",
   "version": "3.7.4"
  }
 },
 "nbformat": 4,
 "nbformat_minor": 2
}
